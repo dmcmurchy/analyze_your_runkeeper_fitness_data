{
 "cells": [
  {
   "cell_type": "markdown",
   "metadata": {},
   "source": [
    "# Project: Analyze Your Runkeeper Fitness Data Instructions\n",
    "\n",
    "**Original project uses:**\n",
    "- Pandas 0.24.0\n",
    "- Matplotlib 3.0.3\n",
    "- statsmodels 0.9.0"
   ]
  },
  {
   "cell_type": "markdown",
   "metadata": {},
   "source": [
    "## Task 1: Instructions\n",
    "Load pandas and the training activities data.\n",
    "\n",
    "- Import pandas under the alias pd.\n",
    "- Use the read_csv() function to load the dataset (runkeeper_file) into a variable called df_activities. Parse the dates with the parse_dates parameter and set the index to the Date column using the index_col parameter.\n",
    "- Display 3 random rows from df_activities using the sample() method.\n",
    "- Print a summary of df_activities using the info() method.\n"
   ]
  },
  {
   "cell_type": "markdown",
   "metadata": {},
   "source": [
    "## Task 2: Instructions\n",
    "Implement the following data preprocessing tasks:\n",
    "\n",
    "- Delete unnecessary columns from df_activities with the drop() method, setting the columns parameter to the cols_to_drop list.\n",
    "- Calculate the activity type counts using the value_counts() method on the Type column.\n",
    "- Rename the 'Other' values to 'Unicycling' in the Type column using str.replace().\n",
    "- Count the missing values in each column using isnull().sum()."
   ]
  },
  {
   "cell_type": "markdown",
   "metadata": {},
   "source": [
    "## Task 3: Instructions\n",
    "Implement mean imputation for missing values.\n",
    "\n",
    "- Calculate the sample mean for Average Heart Rate (bpm) for the 'Cycling' activity type. Assign the result to avg_hr_cycle.\n",
    "- Filter the df_activities for the 'Cycling' activity type. Create a copy of the result using copy() and assign the copy to df_cycle.\n",
    "- Fill in the missing values for Average Heart Rate (bpm) in df_cycle with int(avg_hr_cycle) using the fillna() method.\n",
    "- Count the missing values for all columns in df_run."
   ]
  },
  {
   "cell_type": "markdown",
   "metadata": {},
   "source": [
    "## Task 4: Instructions\n",
    "Plot running data from 2013 through 2018.\n",
    "\n",
    "- Subset df_run for data from 2013 through 2018. Take into account that observations in dataset stored in chronological order - most recent records first. Assign the result to runs_subset_2013_2018.\n",
    "- In the plotting code, enable subplots by setting the subplots parameter to True. Don’t use spaces around the = sign when used to indicate a keyword argument, as recommended in PEP 8 style guide for Python code.\n",
    "- Show the plot using plt.show()."
   ]
  },
  {
   "cell_type": "markdown",
   "metadata": {},
   "source": [
    "## Task 5: Instructions\n",
    "Calculate annual and weekly means for Distance (km), Average Speed (km/h), Climb (m) and Average Heart Rate (bpm).\n",
    "\n",
    "- Subset df_run for data from 2015 through 2018. Assign the result to runs_subset_2015_2018.\n",
    "- Count the annual averages using resample() with 'A' alias, and the mean() method for runs_subset_2015_2018.\n",
    "- Count the average weekly statistics using resample() with 'W' alias, and the mean() method twice.\n",
    "- Filter from dataset column Distance (km) and count the average number of trainings per week using resample() with the count() and mean() methods. Assign the result to weekly_counts_average."
   ]
  },
  {
   "cell_type": "markdown",
   "metadata": {},
   "source": [
    "## Task 6: Instructions\n",
    "Prepare data and create a plot.\n",
    "\n",
    "- Select information for distance and then for heart rate from runs_subset_2015_2018 and assign to runs_distance and runs_hr, respectively.\n",
    "- Create two subplots with shared x-axis using the plt.subplots() method, setting the first positional parameter to 2, sharex to True, and figsize to (12,8). Assign the output to fig, (ax1, ax2) variables.\n",
    "- Plot distance on the first subplot, setting parameter ax to ax1.\n",
    "- On the second subplot (ax2), add a horizontal line with axhline() for the average value of heart rate counted as runs_hr.mean(). Set color to 'blue', linewidth to 1, and linestyle to '-.'."
   ]
  },
  {
   "cell_type": "markdown",
   "metadata": {},
   "source": [
    "## Task 7: Instructions\n",
    "Prepare data and create a plot.\n",
    "\n",
    "- Subset df_run for data from 2013 through 2018 and select the Distance (km) column. Count annual totals with resample() and sum(). Assign the result to df_run_dist_annual.\n",
    "- Create a plot with plt.figure(), setting figsize to define a plot of size 8.0 inches x 5.0 inches.\n",
    "- Customize the plot with horizontal span from 0 to 800 km with ax.axhspan(). Set color to 'red' and alpha to 0.2.\n",
    "- Show the plot with plt.show()."
   ]
  },
  {
   "cell_type": "markdown",
   "metadata": {},
   "source": [
    "## Task 8: Instructions\n",
    "Create a plot with observed distance of runs and decomposed trend.\n",
    "\n",
    "- Import the statsmodels.api under the alias sm.\n",
    "- Subset df_run from 2013 through 2018, select Distance (km) column, resample weekly, and fill NaN values with the bfill() method. Assign to df_run_dist_wkly.\n",
    "- Create a plot with plt.figure(), defining plot size by setting figsize to (12,5)."
   ]
  },
  {
   "cell_type": "markdown",
   "metadata": {},
   "source": [
    "## Task 9: Instructions\n",
    "Create a customized histogram for heart rate distribution.\n",
    "\n",
    "- Subset df_run from March 2015 through 2018 then select the Average Heart Rate (bpm) column. Assign the result to df_run_hr_all.\n",
    "- Create a plot with plt.subplots(), setting figsize to (8,5). Assign the result to fig, ax.\n",
    "- Create customized x-axis ticks with ax.set_xticklabels(). Set the parameters labels to zone_names, rotation to -30, and ha to 'left'.\n",
    "- Show the plot with plt.show()."
   ]
  },
  {
   "cell_type": "markdown",
   "metadata": {},
   "source": [
    "## Task 10: Instructions\n",
    "Create a summary report.\n",
    "\n",
    "- Concatenate the df_run DataFrame with df_walk and df_cycle using append(), then sort based on the index in descending order. Assign the result to df_run_walk_cycle.\n",
    "- Group df_run_walk_cycle by activity type, then select the columns in dist_climb_cols. Sum the result using sum(). Assign the result to df_totals.\n",
    "- Use the stack() method on df_summary to show a compact reshaped form of the full summary report."
   ]
  },
  {
   "cell_type": "markdown",
   "metadata": {},
   "source": [
    "## Task 11: Instructions\n",
    "Use FUN FACTS data to answer some fun questions.\n",
    "\n",
    "- Calculate the instructor's average shoes per lifetime. Use number of 'Total number of km run' from FUN FACTS and divide by the number of pairs of shoes gone through.\n",
    "- Calculate an estimated number of shoes gone through for Forrest Gump's route. Use 'Total number of km run' from FORREST RUN FACTS, then divide (using floor division) by the result from the previous step."
   ]
  }
 ],
 "metadata": {
  "language_info": {
   "name": "python"
  }
 },
 "nbformat": 4,
 "nbformat_minor": 2
}
